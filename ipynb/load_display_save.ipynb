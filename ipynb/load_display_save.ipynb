{
 "cells": [
  {
   "cell_type": "code",
   "execution_count": 55,
   "metadata": {
    "collapsed": true
   },
   "outputs": [],
   "source": [
    "#importing libraries\n",
    "import numpy as np\n",
    "# cv2 save in bgr format\n",
    "import cv2\n",
    "#plt save in rgb format\n",
    "import matplotlib.pyplot as plt"
   ]
  },
  {
   "cell_type": "code",
   "execution_count": 56,
   "outputs": [
    {
     "name": "stdout",
     "output_type": "stream",
     "text": [
      "[[[133 154 169]\n",
      "  [132 153 168]\n",
      "  [132 153 168]\n",
      "  ...\n",
      "  [123 142 155]\n",
      "  [123 142 155]\n",
      "  [122 141 156]]\n",
      "\n",
      " [[116 137 152]\n",
      "  [116 137 152]\n",
      "  [115 136 151]\n",
      "  ...\n",
      "  [102 121 134]\n",
      "  [103 122 135]\n",
      "  [105 124 139]]\n",
      "\n",
      " [[122 143 158]\n",
      "  [123 144 159]\n",
      "  [124 145 160]\n",
      "  ...\n",
      "  [100 122 134]\n",
      "  [ 99 121 133]\n",
      "  [ 99 121 133]]\n",
      "\n",
      " ...\n",
      "\n",
      " [[126 150 168]\n",
      "  [116 140 158]\n",
      "  [ 87 111 129]\n",
      "  ...\n",
      "  [123 144 159]\n",
      "  [141 160 175]\n",
      "  [141 157 173]]\n",
      "\n",
      " [[ 97 121 139]\n",
      "  [ 93 117 135]\n",
      "  [ 73  97 115]\n",
      "  ...\n",
      "  [105 128 143]\n",
      "  [140 161 176]\n",
      "  [159 174 190]]\n",
      "\n",
      " [[ 67  91 111]\n",
      "  [ 78 102 122]\n",
      "  [ 96 120 138]\n",
      "  ...\n",
      "  [ 89 117 128]\n",
      "  [107 133 145]\n",
      "  [119 141 153]]]\n"
     ]
    }
   ],
   "source": [
    "img = cv2.imread('/home/user/project/images/car.jpeg')\n",
    "print(img)\n",
    "#(row column channel) red channel, green channel, blue channel etc"
   ],
   "metadata": {
    "collapsed": false,
    "pycharm": {
     "name": "#%%\n"
    }
   }
  },
  {
   "cell_type": "code",
   "execution_count": 57,
   "outputs": [
    {
     "data": {
      "text/plain": "0"
     },
     "execution_count": 57,
     "metadata": {},
     "output_type": "execute_result"
    }
   ],
   "source": [
    "img.min()"
   ],
   "metadata": {
    "collapsed": false,
    "pycharm": {
     "name": "#%%\n"
    }
   }
  },
  {
   "cell_type": "code",
   "execution_count": 58,
   "outputs": [
    {
     "data": {
      "text/plain": "255"
     },
     "execution_count": 58,
     "metadata": {},
     "output_type": "execute_result"
    }
   ],
   "source": [
    "img.max()"
   ],
   "metadata": {
    "collapsed": false,
    "pycharm": {
     "name": "#%%\n"
    }
   }
  },
  {
   "cell_type": "code",
   "execution_count": 59,
   "outputs": [
    {
     "data": {
      "text/plain": "(683, 1217, 3)"
     },
     "execution_count": 59,
     "metadata": {},
     "output_type": "execute_result"
    }
   ],
   "source": [
    "img.shape"
   ],
   "metadata": {
    "collapsed": false,
    "pycharm": {
     "name": "#%%\n"
    }
   }
  },
  {
   "cell_type": "code",
   "execution_count": 60,
   "outputs": [
    {
     "name": "stdout",
     "output_type": "stream",
     "text": [
      "[[[169 154 133]\n",
      "  [168 153 132]\n",
      "  [168 153 132]\n",
      "  ...\n",
      "  [155 142 125]\n",
      "  [155 142 125]\n",
      "  [156 141 122]]\n",
      "\n",
      " [[152 137 116]\n",
      "  [152 137 116]\n",
      "  [151 136 115]\n",
      "  ...\n",
      "  [134 121 102]\n",
      "  [135 122 103]\n",
      "  [139 124 105]]\n",
      "\n",
      " [[158 143 122]\n",
      "  [159 144 123]\n",
      "  [160 145 124]\n",
      "  ...\n",
      "  [134 122 100]\n",
      "  [133 121  99]\n",
      "  [133 120 101]]\n",
      "\n",
      " ...\n",
      "\n",
      " [[168 150 126]\n",
      "  [158 140 116]\n",
      "  [129 111  87]\n",
      "  ...\n",
      "  [159 144 123]\n",
      "  [175 160 139]\n",
      "  [173 157 142]]\n",
      "\n",
      " [[139 121  97]\n",
      "  [135 117  93]\n",
      "  [115  97  73]\n",
      "  ...\n",
      "  [143 129 103]\n",
      "  [176 161 138]\n",
      "  [190 173 163]]\n",
      "\n",
      " [[111  91  67]\n",
      "  [120 102  78]\n",
      "  [138 120  96]\n",
      "  ...\n",
      "  [130 116  89]\n",
      "  [145 134 106]\n",
      "  [153 140 123]]]\n"
     ]
    }
   ],
   "source": [
    "img = plt.imread('/home/user/project/images/car.jpeg')\n",
    "print(img)"
   ],
   "metadata": {
    "collapsed": false,
    "pycharm": {
     "name": "#%%\n"
    }
   }
  },
  {
   "cell_type": "code",
   "execution_count": 61,
   "outputs": [
    {
     "data": {
      "text/plain": "0"
     },
     "execution_count": 61,
     "metadata": {},
     "output_type": "execute_result"
    }
   ],
   "source": [
    "img.min()"
   ],
   "metadata": {
    "collapsed": false,
    "pycharm": {
     "name": "#%%\n"
    }
   }
  },
  {
   "cell_type": "code",
   "execution_count": 62,
   "outputs": [
    {
     "data": {
      "text/plain": "255"
     },
     "execution_count": 62,
     "metadata": {},
     "output_type": "execute_result"
    }
   ],
   "source": [
    "img.max()"
   ],
   "metadata": {
    "collapsed": false,
    "pycharm": {
     "name": "#%%\n"
    }
   }
  },
  {
   "cell_type": "code",
   "execution_count": 63,
   "outputs": [
    {
     "data": {
      "text/plain": "(683, 1217, 3)"
     },
     "execution_count": 63,
     "metadata": {},
     "output_type": "execute_result"
    }
   ],
   "source": [
    "img.shape"
   ],
   "metadata": {
    "collapsed": false,
    "pycharm": {
     "name": "#%%\n"
    }
   }
  }
 ],
 "metadata": {
  "kernelspec": {
   "display_name": "Python 3",
   "language": "python",
   "name": "python3"
  },
  "language_info": {
   "codemirror_mode": {
    "name": "ipython",
    "version": 2
   },
   "file_extension": ".py",
   "mimetype": "text/x-python",
   "name": "python",
   "nbconvert_exporter": "python",
   "pygments_lexer": "ipython2",
   "version": "2.7.6"
  }
 },
 "nbformat": 4,
 "nbformat_minor": 0
}